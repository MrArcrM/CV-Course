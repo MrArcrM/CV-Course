{
 "cells": [
  {
   "cell_type": "code",
   "execution_count": 2,
   "metadata": {},
   "outputs": [
    {
     "name": "stdout",
     "output_type": "stream",
     "text": [
      "27\n"
     ]
    }
   ],
   "source": [
    "import cv2\n",
    "import random\n",
    "import numpy as np\n",
    "from matplotlib import pyplot as plt\n",
    "\n",
    "cv2.startWindowThread()\n",
    "img_gray = cv2.imread('lenna.jpeg', 0)\n",
    "cv2.imshow('lenna', img_gray)\n",
    "key = cv2.waitKey()\n",
    "if key == 27:  # if 'esc' is pressed\n",
    "    cv2.destroyAllWindows()\n",
    "    cv2.waitKey(1)"
   ]
  },
  {
   "cell_type": "code",
   "execution_count": 3,
   "metadata": {},
   "outputs": [
    {
     "name": "stdout",
     "output_type": "stream",
     "text": [
      "[[139 138 135 ...  99  95 100]\n",
      " [138 137 135 ...  98  94  98]\n",
      " [136 135 133 ...  97  94  95]\n",
      " ...\n",
      " [113 122 132 ...  48  48  50]\n",
      " [113 122 132 ...  47  49  51]\n",
      " [106 117 130 ...  46  49  50]]\n"
     ]
    }
   ],
   "source": [
    "print(img_gray)"
   ]
  },
  {
   "cell_type": "code",
   "execution_count": 4,
   "metadata": {},
   "outputs": [
    {
     "name": "stdout",
     "output_type": "stream",
     "text": [
      "uint8\n"
     ]
    }
   ],
   "source": [
    "print(img_gray.dtype)"
   ]
  },
  {
   "cell_type": "code",
   "execution_count": 5,
   "metadata": {},
   "outputs": [
    {
     "name": "stdout",
     "output_type": "stream",
     "text": [
      "(225, 225)\n"
     ]
    }
   ],
   "source": [
    "print(img_gray.shape)"
   ]
  },
  {
   "cell_type": "code",
   "execution_count": 6,
   "metadata": {
    "collapsed": true
   },
   "outputs": [],
   "source": [
    "img = cv2.imread('lenna.jpeg')\n",
    "cv2.imshow('lenna', img)\n",
    "key = cv2.waitKey()\n",
    "if key == 27:  # if 'esc' is pressed\n",
    "    cv2.destroyAllWindows()\n",
    "    cv2.waitKey(1)"
   ]
  },
  {
   "cell_type": "code",
   "execution_count": 7,
   "metadata": {},
   "outputs": [
    {
     "name": "stdout",
     "output_type": "stream",
     "text": [
      "[[[ 88 118 201]\n",
      "  [ 87 117 200]\n",
      "  [ 82 113 198]\n",
      "  ...\n",
      "  [ 58  83 147]\n",
      "  [ 54  79 143]\n",
      "  [ 61  81 152]]\n",
      "\n",
      " [[ 87 117 200]\n",
      "  [ 86 116 199]\n",
      "  [ 82 113 198]\n",
      "  ...\n",
      "  [ 57  82 146]\n",
      "  [ 53  78 142]\n",
      "  [ 61  80 148]]\n",
      "\n",
      " [[ 85 115 198]\n",
      "  [ 84 114 197]\n",
      "  [ 80 111 196]\n",
      "  ...\n",
      "  [ 58  81 143]\n",
      "  [ 55  78 140]\n",
      "  [ 61  78 141]]\n",
      "\n",
      " ...\n",
      "\n",
      " [[ 58  93 173]\n",
      "  [ 67 103 181]\n",
      "  [ 79 114 188]\n",
      "  ...\n",
      "  [ 34  39  72]\n",
      "  [ 36  38  72]\n",
      "  [ 41  41  71]]\n",
      "\n",
      " [[ 58  93 173]\n",
      "  [ 67 103 181]\n",
      "  [ 79 114 188]\n",
      "  ...\n",
      "  [ 33  38  71]\n",
      "  [ 35  40  71]\n",
      "  [ 42  43  71]]\n",
      "\n",
      " [[ 49  85 169]\n",
      "  [ 62  96 179]\n",
      "  [ 77 110 189]\n",
      "  ...\n",
      "  [ 41  37  66]\n",
      "  [ 45  40  69]\n",
      "  [ 39  41  71]]]\n"
     ]
    }
   ],
   "source": [
    "print(img)"
   ]
  },
  {
   "cell_type": "code",
   "execution_count": 8,
   "metadata": {},
   "outputs": [
    {
     "name": "stdout",
     "output_type": "stream",
     "text": [
      "(225, 225, 3)\n"
     ]
    }
   ],
   "source": [
    "print(img.shape)"
   ]
  },
  {
   "cell_type": "code",
   "execution_count": 9,
   "metadata": {
    "collapsed": true
   },
   "outputs": [],
   "source": [
    "B, G, R = cv2.split(img)\n",
    "cv2.imshow('B', B)\n",
    "cv2.imshow('G', G)\n",
    "cv2.imshow('R', R)\n",
    "key = cv2.waitKey()\n",
    "if key == 27:  # if 'esc' is pressed\n",
    "    cv2.destroyAllWindows()\n",
    "    cv2.waitKey(1)"
   ]
  },
  {
   "cell_type": "code",
   "execution_count": 11,
   "metadata": {
    "collapsed": true
   },
   "outputs": [],
   "source": [
    "img_crop = img[0:100, 0:100]\n",
    "cv2.imshow('img_crop', img_crop)\n",
    "key = cv2.waitKey()\n",
    "if key == 27:  # if 'esc' is pressed\n",
    "    cv2.destroyAllWindows()\n",
    "    cv2.waitKey(1)"
   ]
  },
  {
   "cell_type": "code",
   "execution_count": null,
   "metadata": {
    "collapsed": true
   },
   "outputs": [],
   "source": [
    "def crop(img):"
   ]
  },
  {
   "cell_type": "code",
   "execution_count": null,
   "metadata": {
    "collapsed": true
   },
   "outputs": [],
   "source": [
    "def random_light_color(img):"
   ]
  },
  {
   "cell_type": "code",
   "execution_count": null,
   "metadata": {
    "collapsed": true
   },
   "outputs": [],
   "source": [
    "def adjust_gamma(img, gamma):"
   ]
  }
 ],
 "metadata": {
  "kernelspec": {
   "display_name": "Python 3",
   "language": "python",
   "name": "python3"
  },
  "language_info": {
   "codemirror_mode": {
    "name": "ipython",
    "version": 3
   },
   "file_extension": ".py",
   "mimetype": "text/x-python",
   "name": "python",
   "nbconvert_exporter": "python",
   "pygments_lexer": "ipython3",
   "version": "3.6.7"
  }
 },
 "nbformat": 4,
 "nbformat_minor": 2
}
